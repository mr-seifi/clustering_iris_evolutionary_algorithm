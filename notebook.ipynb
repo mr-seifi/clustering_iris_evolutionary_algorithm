{
 "cells": [
  {
   "cell_type": "code",
   "execution_count": 181,
   "id": "e01ee955-e1cd-4ddd-9daa-68f5fe542e31",
   "metadata": {
    "tags": []
   },
   "outputs": [],
   "source": [
    "import numpy as np\n",
    "import pandas as pd\n",
    "import matplotlib.pyplot as plt\n",
    "import seaborn as sns\n",
    "\n",
    "from sklearn import datasets\n",
    "from sklearn.metrics import accuracy_score, f1_score\n",
    "from pygad import GA"
   ]
  },
  {
   "cell_type": "markdown",
   "id": "266c5d05-fcef-4d2e-8f45-0c80c4751094",
   "metadata": {},
   "source": [
    "# Load Dataset"
   ]
  },
  {
   "cell_type": "code",
   "execution_count": 27,
   "id": "b6e0f548-3c51-4c5f-8beb-0e9afc547803",
   "metadata": {
    "tags": []
   },
   "outputs": [],
   "source": [
    "iris_dataset = datasets.load_iris()\n",
    "df = pd.DataFrame(np.concatenate([iris_dataset.data, iris_dataset.target.reshape(150,1)], axis=1), columns=[*iris_dataset.feature_names, 'class'])"
   ]
  },
  {
   "cell_type": "markdown",
   "id": "234f0353-4b58-498a-9e0b-dcab69ab3a2b",
   "metadata": {},
   "source": [
    "# Get Information"
   ]
  },
  {
   "cell_type": "code",
   "execution_count": 28,
   "id": "bdd69cea-2999-40e8-bab5-dc64ae5b89ea",
   "metadata": {
    "tags": []
   },
   "outputs": [
    {
     "name": "stdout",
     "output_type": "stream",
     "text": [
      "<class 'pandas.core.frame.DataFrame'>\n",
      "RangeIndex: 150 entries, 0 to 149\n",
      "Data columns (total 5 columns):\n",
      " #   Column             Non-Null Count  Dtype  \n",
      "---  ------             --------------  -----  \n",
      " 0   sepal length (cm)  150 non-null    float64\n",
      " 1   sepal width (cm)   150 non-null    float64\n",
      " 2   petal length (cm)  150 non-null    float64\n",
      " 3   petal width (cm)   150 non-null    float64\n",
      " 4   class              150 non-null    float64\n",
      "dtypes: float64(5)\n",
      "memory usage: 6.0 KB\n"
     ]
    }
   ],
   "source": [
    "df.info()"
   ]
  },
  {
   "cell_type": "code",
   "execution_count": 29,
   "id": "75c1eeb2-7580-459b-94c4-867f8341565c",
   "metadata": {
    "tags": []
   },
   "outputs": [
    {
     "data": {
      "text/html": [
       "<div>\n",
       "<style scoped>\n",
       "    .dataframe tbody tr th:only-of-type {\n",
       "        vertical-align: middle;\n",
       "    }\n",
       "\n",
       "    .dataframe tbody tr th {\n",
       "        vertical-align: top;\n",
       "    }\n",
       "\n",
       "    .dataframe thead th {\n",
       "        text-align: right;\n",
       "    }\n",
       "</style>\n",
       "<table border=\"1\" class=\"dataframe\">\n",
       "  <thead>\n",
       "    <tr style=\"text-align: right;\">\n",
       "      <th></th>\n",
       "      <th>sepal length (cm)</th>\n",
       "      <th>sepal width (cm)</th>\n",
       "      <th>petal length (cm)</th>\n",
       "      <th>petal width (cm)</th>\n",
       "      <th>class</th>\n",
       "    </tr>\n",
       "  </thead>\n",
       "  <tbody>\n",
       "    <tr>\n",
       "      <th>0</th>\n",
       "      <td>5.1</td>\n",
       "      <td>3.5</td>\n",
       "      <td>1.4</td>\n",
       "      <td>0.2</td>\n",
       "      <td>0.0</td>\n",
       "    </tr>\n",
       "    <tr>\n",
       "      <th>1</th>\n",
       "      <td>4.9</td>\n",
       "      <td>3.0</td>\n",
       "      <td>1.4</td>\n",
       "      <td>0.2</td>\n",
       "      <td>0.0</td>\n",
       "    </tr>\n",
       "    <tr>\n",
       "      <th>2</th>\n",
       "      <td>4.7</td>\n",
       "      <td>3.2</td>\n",
       "      <td>1.3</td>\n",
       "      <td>0.2</td>\n",
       "      <td>0.0</td>\n",
       "    </tr>\n",
       "    <tr>\n",
       "      <th>3</th>\n",
       "      <td>4.6</td>\n",
       "      <td>3.1</td>\n",
       "      <td>1.5</td>\n",
       "      <td>0.2</td>\n",
       "      <td>0.0</td>\n",
       "    </tr>\n",
       "    <tr>\n",
       "      <th>4</th>\n",
       "      <td>5.0</td>\n",
       "      <td>3.6</td>\n",
       "      <td>1.4</td>\n",
       "      <td>0.2</td>\n",
       "      <td>0.0</td>\n",
       "    </tr>\n",
       "  </tbody>\n",
       "</table>\n",
       "</div>"
      ],
      "text/plain": [
       "   sepal length (cm)  sepal width (cm)  petal length (cm)  petal width (cm)  \\\n",
       "0                5.1               3.5                1.4               0.2   \n",
       "1                4.9               3.0                1.4               0.2   \n",
       "2                4.7               3.2                1.3               0.2   \n",
       "3                4.6               3.1                1.5               0.2   \n",
       "4                5.0               3.6                1.4               0.2   \n",
       "\n",
       "   class  \n",
       "0    0.0  \n",
       "1    0.0  \n",
       "2    0.0  \n",
       "3    0.0  \n",
       "4    0.0  "
      ]
     },
     "execution_count": 29,
     "metadata": {},
     "output_type": "execute_result"
    }
   ],
   "source": [
    "df.head()"
   ]
  },
  {
   "cell_type": "code",
   "execution_count": 30,
   "id": "939e4bf8-44d0-4301-a429-6d9f406f815f",
   "metadata": {
    "tags": []
   },
   "outputs": [
    {
     "data": {
      "text/html": [
       "<div>\n",
       "<style scoped>\n",
       "    .dataframe tbody tr th:only-of-type {\n",
       "        vertical-align: middle;\n",
       "    }\n",
       "\n",
       "    .dataframe tbody tr th {\n",
       "        vertical-align: top;\n",
       "    }\n",
       "\n",
       "    .dataframe thead th {\n",
       "        text-align: right;\n",
       "    }\n",
       "</style>\n",
       "<table border=\"1\" class=\"dataframe\">\n",
       "  <thead>\n",
       "    <tr style=\"text-align: right;\">\n",
       "      <th></th>\n",
       "      <th>sepal length (cm)</th>\n",
       "      <th>sepal width (cm)</th>\n",
       "      <th>petal length (cm)</th>\n",
       "      <th>petal width (cm)</th>\n",
       "      <th>class</th>\n",
       "    </tr>\n",
       "  </thead>\n",
       "  <tbody>\n",
       "    <tr>\n",
       "      <th>count</th>\n",
       "      <td>150.000000</td>\n",
       "      <td>150.000000</td>\n",
       "      <td>150.000000</td>\n",
       "      <td>150.000000</td>\n",
       "      <td>150.000000</td>\n",
       "    </tr>\n",
       "    <tr>\n",
       "      <th>mean</th>\n",
       "      <td>5.843333</td>\n",
       "      <td>3.057333</td>\n",
       "      <td>3.758000</td>\n",
       "      <td>1.199333</td>\n",
       "      <td>1.000000</td>\n",
       "    </tr>\n",
       "    <tr>\n",
       "      <th>std</th>\n",
       "      <td>0.828066</td>\n",
       "      <td>0.435866</td>\n",
       "      <td>1.765298</td>\n",
       "      <td>0.762238</td>\n",
       "      <td>0.819232</td>\n",
       "    </tr>\n",
       "    <tr>\n",
       "      <th>min</th>\n",
       "      <td>4.300000</td>\n",
       "      <td>2.000000</td>\n",
       "      <td>1.000000</td>\n",
       "      <td>0.100000</td>\n",
       "      <td>0.000000</td>\n",
       "    </tr>\n",
       "    <tr>\n",
       "      <th>25%</th>\n",
       "      <td>5.100000</td>\n",
       "      <td>2.800000</td>\n",
       "      <td>1.600000</td>\n",
       "      <td>0.300000</td>\n",
       "      <td>0.000000</td>\n",
       "    </tr>\n",
       "    <tr>\n",
       "      <th>50%</th>\n",
       "      <td>5.800000</td>\n",
       "      <td>3.000000</td>\n",
       "      <td>4.350000</td>\n",
       "      <td>1.300000</td>\n",
       "      <td>1.000000</td>\n",
       "    </tr>\n",
       "    <tr>\n",
       "      <th>75%</th>\n",
       "      <td>6.400000</td>\n",
       "      <td>3.300000</td>\n",
       "      <td>5.100000</td>\n",
       "      <td>1.800000</td>\n",
       "      <td>2.000000</td>\n",
       "    </tr>\n",
       "    <tr>\n",
       "      <th>max</th>\n",
       "      <td>7.900000</td>\n",
       "      <td>4.400000</td>\n",
       "      <td>6.900000</td>\n",
       "      <td>2.500000</td>\n",
       "      <td>2.000000</td>\n",
       "    </tr>\n",
       "  </tbody>\n",
       "</table>\n",
       "</div>"
      ],
      "text/plain": [
       "       sepal length (cm)  sepal width (cm)  petal length (cm)  \\\n",
       "count         150.000000        150.000000         150.000000   \n",
       "mean            5.843333          3.057333           3.758000   \n",
       "std             0.828066          0.435866           1.765298   \n",
       "min             4.300000          2.000000           1.000000   \n",
       "25%             5.100000          2.800000           1.600000   \n",
       "50%             5.800000          3.000000           4.350000   \n",
       "75%             6.400000          3.300000           5.100000   \n",
       "max             7.900000          4.400000           6.900000   \n",
       "\n",
       "       petal width (cm)       class  \n",
       "count        150.000000  150.000000  \n",
       "mean           1.199333    1.000000  \n",
       "std            0.762238    0.819232  \n",
       "min            0.100000    0.000000  \n",
       "25%            0.300000    0.000000  \n",
       "50%            1.300000    1.000000  \n",
       "75%            1.800000    2.000000  \n",
       "max            2.500000    2.000000  "
      ]
     },
     "execution_count": 30,
     "metadata": {},
     "output_type": "execute_result"
    }
   ],
   "source": [
    "df.describe()"
   ]
  },
  {
   "cell_type": "markdown",
   "id": "f559ebec-07c4-44b6-be24-45ffceb0cf29",
   "metadata": {},
   "source": [
    "# Build NumPy Array as Data"
   ]
  },
  {
   "cell_type": "code",
   "execution_count": 475,
   "id": "872ee78c-4500-46cf-be30-53bd1737e133",
   "metadata": {
    "tags": []
   },
   "outputs": [],
   "source": [
    "data = df[['sepal length (cm)', 'sepal width (cm)', 'petal length (cm)', 'petal width (cm)']].to_numpy()"
   ]
  },
  {
   "cell_type": "markdown",
   "id": "d077c684-eb0c-47ac-9a76-7bcb89331f27",
   "metadata": {},
   "source": [
    "# Make Genetic Algorithms"
   ]
  },
  {
   "cell_type": "code",
   "execution_count": 563,
   "id": "62ecc4ce-7681-440c-9b3e-a9fc2741be98",
   "metadata": {},
   "outputs": [],
   "source": [
    "class GeneticAlgorithm:\n",
    "    def __init__(self, num_generations, sol_per_pop, num_parents_mating, \n",
    "                 keep_parents, num_genes, fitness_func, mutation_percent_genes, \n",
    "                 gene_space):\n",
    "        self.num_generations = num_generations\n",
    "        self.sol_per_pop = sol_per_pop\n",
    "        self.num_parents_mating = num_parents_mating\n",
    "        self.keep_parents = keep_parents\n",
    "        self.num_genes = num_genes\n",
    "        self.fitness_func = fitness_func\n",
    "        self.mutation_percent_genes = mutation_percent_genes\n",
    "        self.gene_space = gene_space\n",
    "        self.population = self.initialize_population()\n",
    "\n",
    "    def initialize_population(self):\n",
    "        population = []\n",
    "        for _ in range(self.sol_per_pop):\n",
    "            individual = []\n",
    "            for space in self.gene_space:\n",
    "                individual.append(np.random.choice(space))\n",
    "            population.append(individual)\n",
    "        return np.array(population)\n",
    "\n",
    "    def calculate_population_fitness(self):\n",
    "        fitnesses = np.apply_along_axis(self.fitness_func, 1, self.population)\n",
    "        return fitnesses\n",
    "\n",
    "    def select_mating_pool(self, fitnesses):\n",
    "        parents = np.empty((self.num_parents_mating, self.num_genes))\n",
    "        for parent_num in range(self.num_parents_mating):\n",
    "            max_fitness_idx = np.where(fitnesses == np.max(fitnesses))[0][0]\n",
    "            parents[parent_num, :] = self.population[max_fitness_idx, :]\n",
    "            fitnesses[max_fitness_idx] = -99999999999\n",
    "        return parents\n",
    "\n",
    "    def crossover(self, parents):\n",
    "        offspring = np.empty((self.sol_per_pop - parents.shape[0], self.num_genes))\n",
    "        crossover_point = np.uint8(self.num_genes/2)\n",
    "\n",
    "        for k in range(offspring.shape[0]):\n",
    "            parent1_idx = k % parents.shape[0]\n",
    "            parent2_idx = (k+1) % parents.shape[0]\n",
    "            offspring[k, 0:crossover_point] = parents[parent1_idx, 0:crossover_point]\n",
    "            offspring[k, crossover_point:] = parents[parent2_idx, crossover_point:]\n",
    "        return offspring\n",
    "\n",
    "    def mutation(self, offspring_crossover):\n",
    "        for idx in range(offspring_crossover.shape[0]):\n",
    "            gene_idx = np.random.randint(low=0, high=self.num_genes)\n",
    "            random_value = np.random.choice(self.gene_space[gene_idx])\n",
    "            offspring_crossover[idx, gene_idx] = offspring_crossover[idx, gene_idx] + random_value\n",
    "        return offspring_crossover\n",
    "\n",
    "    def run(self):\n",
    "        for generation in range(self.num_generations):\n",
    "            fitnesses = self.calculate_population_fitness()\n",
    "            parents = self.select_mating_pool(fitnesses)\n",
    "            offspring_crossover = self.crossover(parents)\n",
    "            offspring_mutation = self.mutation(offspring_crossover)\n",
    "            self.population[0:parents.shape[0], :] = parents\n",
    "            self.population[parents.shape[0]:, :] = offspring_mutation\n",
    "\n",
    "        best_fitness_idx = np.argmax(self.calculate_population_fitness())\n",
    "        return self.population[best_fitness_idx, :]"
   ]
  },
  {
   "cell_type": "markdown",
   "id": "8b4f24fc-6169-404a-81c4-922d5c7205ab",
   "metadata": {},
   "source": [
    "# Define Euclidean Distance"
   ]
  },
  {
   "cell_type": "code",
   "execution_count": 594,
   "id": "c7692fe8-06c5-4b45-85ba-668d11d45cf1",
   "metadata": {
    "tags": []
   },
   "outputs": [],
   "source": [
    "def euclidean_distance(X, Y):\n",
    "    return np.sqrt(np.power(X - Y, 2).sum(axis=1))"
   ]
  },
  {
   "cell_type": "markdown",
   "id": "30ecc0fd-9394-4dc4-80a4-b93cb3e42007",
   "metadata": {},
   "source": [
    "# Cluster Data Based on Solution"
   ]
  },
  {
   "cell_type": "code",
   "execution_count": 553,
   "id": "627371d0-4fe7-48bd-b2a7-a8148df1235f",
   "metadata": {
    "tags": []
   },
   "outputs": [],
   "source": [
    "def cluster_data(solution, solution_idx):\n",
    "    global num_clusters, data\n",
    "    cluster_centers = np.zeros((num_clusters, data.shape[1]))\n",
    "    dist_cluster_samples = np.zeros((num_clusters, data.shape[0]))\n",
    "    for i in range(num_clusters):\n",
    "        cluster_centers[i, :] = solution[data.shape[1] * i:data.shape[1] * (i + 1)]\n",
    "        dist_cluster_samples[i, :] = euclidean_distance(data, cluster_centers[i, :])\n",
    "    \n",
    "    cluster_indices = np.argmin(dist_cluster_samples, axis=0)\n",
    "    dist_inside_clusters = np.zeros((num_clusters, 1))\n",
    "    for i in range(num_clusters):\n",
    "        dist_inside_clusters[i, :] = dist_cluster_samples[i, cluster_indices == i].sum()\n",
    "    \n",
    "    return cluster_centers, dist_cluster_samples, cluster_indices, dist_inside_clusters"
   ]
  },
  {
   "cell_type": "markdown",
   "id": "643376d7-6f1f-4925-91ae-9623bc945fa8",
   "metadata": {},
   "source": [
    "# Map Real Cluster Indices"
   ]
  },
  {
   "cell_type": "code",
   "execution_count": 554,
   "id": "3b6ea8af-60d3-44bb-9246-db89b9e26e45",
   "metadata": {
    "tags": []
   },
   "outputs": [],
   "source": [
    "def get_absolute_cluster_indices(cluster_indices):\n",
    "    new_cluster_indices = np.zeros((data.shape[0]))\n",
    "    new_cluster_indices.fill(100)\n",
    "\n",
    "    x = np.array(np.unique(cluster_indices, return_index=True)).T\n",
    "    x = x[x[:,1].argsort()] \n",
    "\n",
    "    mapper = {_a: i for i, _a in enumerate(x[:, 0])}\n",
    "    for i in mapper.keys():\n",
    "        new_cluster_indices[cluster_indices == i] = mapper[i]\n",
    "    return new_cluster_indices"
   ]
  },
  {
   "cell_type": "markdown",
   "id": "d6a53766-733b-4f2c-bf2b-d71890aba332",
   "metadata": {},
   "source": [
    "# Fitness Function"
   ]
  },
  {
   "cell_type": "code",
   "execution_count": 555,
   "id": "5a8793cc-0f86-4b9c-91ca-9efcf97f6cb6",
   "metadata": {
    "tags": []
   },
   "outputs": [],
   "source": [
    "def calculate_fitness(solution):\n",
    "    _, _, _, dist_inside_clusters = cluster_data(solution, 1)\n",
    "    return 1.0 / (dist_inside_clusters.sum() + 1e-9)"
   ]
  },
  {
   "cell_type": "markdown",
   "id": "bcc527d7-6e3d-4c39-8f20-696c6e7a23ff",
   "metadata": {},
   "source": [
    "# Print Result Function"
   ]
  },
  {
   "cell_type": "code",
   "execution_count": 556,
   "id": "e51b4be2-e19f-4cea-bcc7-aeee79e02464",
   "metadata": {
    "tags": []
   },
   "outputs": [],
   "source": [
    "def print_result(ga_instance):\n",
    "    best_solution = ga_instance.run()\n",
    "    print(f\"Best solution : {best_solution}\")\n",
    "    print(f\"Fitness of best solution: {calculate_fitness(best_solution)}\")\n",
    "    cluster_centers, dist_cluster_samples, cluster_indices, dist_inside_clusters = cluster_data(best_solution, 1)\n",
    "    print(f\"Accuracy: {accuracy_score(df['class'].to_numpy(), get_absolute_cluster_indices(cluster_indices))}\")"
   ]
  },
  {
   "cell_type": "markdown",
   "id": "684b7cfd-e502-4e2c-acf6-b4799e5dc144",
   "metadata": {},
   "source": [
    "# Prepare for Plot Based Keep Parents"
   ]
  },
  {
   "cell_type": "code",
   "execution_count": 602,
   "id": "9952c40b-db6b-45f9-a7cd-cd765cd08b83",
   "metadata": {
    "tags": []
   },
   "outputs": [],
   "source": [
    "def get_mean_per_option_parents_mating(parent_mating, repeat=25):\n",
    "    num_clusters = 3\n",
    "    num_generations = 100\n",
    "    sol_per_pop = 50\n",
    "    mutation_percent_genes = 10\n",
    "    keep_parents = 2\n",
    "    \n",
    "    values = np.zeros(repeat)\n",
    "    num_genes = num_clusters * data.shape[1]\n",
    "    for i in range(repeat):\n",
    "        genetic_algorithm = GeneticAlgorithm(\n",
    "                                num_generations=num_generations,\n",
    "                                sol_per_pop=sol_per_pop,\n",
    "                                num_parents_mating=parent_mating,\n",
    "                                keep_parents=keep_parents,\n",
    "                                num_genes=num_genes,\n",
    "                                fitness_func=calculate_fitness,\n",
    "                                mutation_percent_genes=mutation_percent_genes,\n",
    "                                gene_space=[np.arange(4.3, 7.9, 0.01), np.arange(2.0, 4.4, 0.01), np.arange(1.0, 6.9, 0.01), np.arange(0.1, 2.5, 0.01), \n",
    "                                            np.arange(4.3, 7.9, 0.01), np.arange(2.0, 4.4, 0.01), np.arange(1.0, 6.9, 0.01), np.arange(0.1, 2.5, 0.01),\n",
    "                                            np.arange(4.3, 7.9, 0.01), np.arange(2.0, 4.4, 0.01), np.arange(1.0, 6.9, 0.01), np.arange(0.1, 2.5, 0.01),],\n",
    "                            )\n",
    "        best_solution = genetic_algorithm.run()\n",
    "        _, _, cluster_indices, _ = cluster_data(best_solution, 1)\n",
    "        values[i] = accuracy_score(df['class'].to_numpy(), get_absolute_cluster_indices(cluster_indices))\n",
    "    return values.mean()"
   ]
  },
  {
   "cell_type": "code",
   "execution_count": 604,
   "id": "c5fe8ea4-6fa5-4375-b3e7-7cb6f9927b70",
   "metadata": {
    "tags": []
   },
   "outputs": [],
   "source": [
    "accuracy_per_parents_mating = np.zeros((9, 2))\n",
    "for k in range(2, 11):\n",
    "    accuracy_per_parents_mating[k - 2, :] = np.array([k, get_mean_per_option_parents_mating(k)])"
   ]
  },
  {
   "cell_type": "code",
   "execution_count": 606,
   "id": "5416ab0c-f3ca-4f99-9c01-41335690520f",
   "metadata": {
    "tags": []
   },
   "outputs": [
    {
     "data": {
      "image/png": "[encoded data removed]",
      "text/plain": [
       "<Figure size 640x480 with 1 Axes>"
      ]
     },
     "metadata": {},
     "output_type": "display_data"
    }
   ],
   "source": [
    "sns.set_theme();\n",
    "\n",
    "plt.plot(accuracy_per_parents_mating[:,0], accuracy_per_parents_mating[:,1]);\n",
    "plt.xlabel('Parents Mating');\n",
    "plt.ylabel('Accuracy');\n",
    "plt.title('Accuracy per number of Parents Mating');"
   ]
  },
  {
   "cell_type": "code",
   "execution_count": null,
   "id": "cb9e0330-f72c-4d13-af52-2b559f4b18ea",
   "metadata": {},
   "outputs": [],
   "source": []
  }
 ],
 "metadata": {
  "kernelspec": {
   "display_name": "Python 3 (ipykernel)",
   "language": "python",
   "name": "python3"
  },
  "language_info": {
   "codemirror_mode": {
    "name": "ipython",
    "version": 3
   },
   "file_extension": ".py",
   "mimetype": "text/x-python",
   "name": "python",
   "nbconvert_exporter": "python",
   "pygments_lexer": "ipython3",
   "version": "3.10.12"
  }
 },
 "nbformat": 4,
 "nbformat_minor": 5
}
